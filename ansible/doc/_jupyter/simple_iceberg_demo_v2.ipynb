{
 "cells": [
  {
   "cell_type": "code",
   "execution_count": 4,
   "id": "ad7c16b8",
   "metadata": {
    "tags": []
   },
   "outputs": [
    {
     "ename": "SyntaxError",
     "evalue": "EOL while scanning string literal (562249555.py, line 7)",
     "output_type": "error",
     "traceback": [
      "\u001b[0;36m  Cell \u001b[0;32mIn[4], line 7\u001b[0;36m\u001b[0m\n\u001b[0;31m    .set(spark.sql.catalog.my_catalog.jdbc.password\",os.environ.get('PGPASSWORD')));\u001b[0m\n\u001b[0m                                                                                    \n^\u001b[0m\n\u001b[0;31mSyntaxError\u001b[0m\u001b[0;31m:\u001b[0m EOL while scanning string literal\n"
     ]
    }
   ],
   "source": [
    "from pyspark.sql import SparkSession\n",
    "from pyspark.conf import SparkConf\n",
    "import os\n",
    "\n",
    "#conf = (SparkConf())\n",
    "conf = (SparkConf().set(\"spark.sql.catalog.my_catalog.jdbc.user\",os.environ.get('PGUSER')) \\\n",
    "       .set(spark.sql.catalog.my_catalog.jdbc.password\",os.environ.get('PGPASSWORD')));\n",
    "conf = (SparkConf().set(\"spark.eventLog.enabled\", \"true\")\\\n",
    "       .set(\"spark.eventLog.dir\",\"s3a://spark/logs/\"));            \n",
    "            \n",
    "spark = SparkSession.builder.config(conf=conf).master(\"spark://node-1:7077,node-2:7077\").getOrCreate()"
   ]
  },
  {
   "cell_type": "code",
   "execution_count": null,
   "id": "e877e283-0b66-4d28-b311-80331fc9b508",
   "metadata": {
    "tags": []
   },
   "outputs": [],
   "source": [
    "print(os.environ.get('PGUSER')), print(os.environ.get('AWS_SECRET_ACCESS_KEY'))"
   ]
  },
  {
   "cell_type": "code",
   "execution_count": null,
   "id": "23d454ad",
   "metadata": {
    "tags": []
   },
   "outputs": [],
   "source": [
    "load_ext sparksql_magic"
   ]
  },
  {
   "cell_type": "code",
   "execution_count": null,
   "id": "5121bb4d",
   "metadata": {
    "tags": []
   },
   "outputs": [],
   "source": [
    "%%sparksql\n",
    "CREATE TABLE table2 (\n",
    "    order_id BIGINT,\n",
    "    customer_id BIGINT,\n",
    "    order_amount DECIMAL(10, 2),\n",
    "    order_ts TIMESTAMP\n",
    ")\n",
    "USING iceberg\n",
    "PARTITIONED BY ( hours(order_ts) );"
   ]
  },
  {
   "cell_type": "code",
   "execution_count": null,
   "id": "26ce1bd1",
   "metadata": {
    "tags": []
   },
   "outputs": [],
   "source": [
    "%%sparksql\n",
    "INSERT INTO table1 VALUES (\n",
    "    125,\n",
    "    456,\n",
    "    36.17,\n",
    "    TIMESTAMP('2021-01-26 08:10:23')\n",
    ");"
   ]
  },
  {
   "cell_type": "code",
   "execution_count": null,
   "id": "948a24f8",
   "metadata": {
    "tags": []
   },
   "outputs": [],
   "source": [
    "\n",
    "%%sparksql\n",
    "select * from table1"
   ]
  },
  {
   "cell_type": "code",
   "execution_count": null,
   "id": "a39d0811",
   "metadata": {},
   "outputs": [],
   "source": []
  }
 ],
 "metadata": {
  "kernelspec": {
   "display_name": "Python 3 (ipykernel)",
   "language": "python",
   "name": "python3"
  },
  "language_info": {
   "codemirror_mode": {
    "name": "ipython",
    "version": 3
   },
   "file_extension": ".py",
   "mimetype": "text/x-python",
   "name": "python",
   "nbconvert_exporter": "python",
   "pygments_lexer": "ipython3",
   "version": "3.8.10"
  }
 },
 "nbformat": 4,
 "nbformat_minor": 5
}
