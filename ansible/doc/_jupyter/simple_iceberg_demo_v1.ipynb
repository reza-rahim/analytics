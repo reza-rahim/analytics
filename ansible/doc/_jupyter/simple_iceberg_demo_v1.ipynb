{
 "cells": [
  {
   "cell_type": "code",
   "execution_count": 1,
   "id": "75e60aff",
   "metadata": {
    "execution": {
     "iopub.execute_input": "2023-03-31T00:58:02.244370Z",
     "iopub.status.busy": "2023-03-31T00:58:02.244119Z",
     "iopub.status.idle": "2023-03-31T00:58:02.256572Z",
     "shell.execute_reply": "2023-03-31T00:58:02.255798Z",
     "shell.execute_reply.started": "2023-03-31T00:58:02.244347Z"
    },
    "tags": []
   },
   "outputs": [],
   "source": [
    "import findspark\n",
    "findspark.init()"
   ]
  },
  {
   "cell_type": "code",
   "execution_count": 2,
   "id": "ad7c16b8",
   "metadata": {
    "execution": {
     "iopub.execute_input": "2023-03-31T00:58:03.127451Z",
     "iopub.status.busy": "2023-03-31T00:58:03.126699Z",
     "iopub.status.idle": "2023-03-31T00:58:08.511679Z",
     "shell.execute_reply": "2023-03-31T00:58:08.510759Z",
     "shell.execute_reply.started": "2023-03-31T00:58:03.127422Z"
    },
    "tags": []
   },
   "outputs": [
    {
     "name": "stderr",
     "output_type": "stream",
     "text": [
      "Setting default log level to \"WARN\".\n",
      "To adjust logging level use sc.setLogLevel(newLevel). For SparkR, use setLogLevel(newLevel).\n"
     ]
    },
    {
     "name": "stdout",
     "output_type": "stream",
     "text": [
      "23/03/31 00:58:05 WARN NativeCodeLoader: Unable to load native-hadoop library for your platform... using builtin-java classes where applicable\n",
      "23/03/31 00:58:06 WARN MetricsConfig: Cannot locate configuration: tried hadoop-metrics2-s3a-file-system.properties,hadoop-metrics2.properties\n",
      "23/03/31 00:58:08 WARN S3ABlockOutputStream: Application invoked the Syncable API against stream writing to logs/app-20230331005806-0006.inprogress. This is unsupported\n"
     ]
    }
   ],
   "source": [
    "from pyspark.sql import SparkSession\n",
    "from pyspark.conf import SparkConf\n",
    "\n",
    "conf = (SparkConf().set(\"spark.dynamicAllocation.initialExecutors\", 1)\\\n",
    "        .set(\"spark.dynamicAllocation.minExecutors\", 0)\\\n",
    "        .set(\"spark.dynamicAllocation.maxExecutors\", 1)\\\n",
    "        .set(\"spark.driver.cores\", 1)\\\n",
    "        .set(\"spark.driver.memory \", \"1g\")\\\n",
    "        .set(\"spark.executor.cores\", 1)\\\n",
    "        .set(\"spark.executor.memory\", \"1g\") );\n",
    "\n",
    "spark = SparkSession.builder.config(conf=conf).master(\"spark://node-1:7077\").getOrCreate()"
   ]
  },
  {
   "cell_type": "code",
   "execution_count": null,
   "id": "23d454ad",
   "metadata": {
    "tags": []
   },
   "outputs": [],
   "source": [
    "load_ext sparksql_magic"
   ]
  },
  {
   "cell_type": "code",
   "execution_count": null,
   "id": "5121bb4d",
   "metadata": {
    "tags": []
   },
   "outputs": [],
   "source": [
    "%%sparksql\n",
    "CREATE TABLE table1 (\n",
    "    order_id BIGINT,\n",
    "    customer_id BIGINT,\n",
    "    order_amount DECIMAL(10, 2),\n",
    "    order_ts TIMESTAMP\n",
    ")\n",
    "USING iceberg\n",
    "PARTITIONED BY ( hours(order_ts) );"
   ]
  },
  {
   "cell_type": "code",
   "execution_count": null,
   "id": "26ce1bd1",
   "metadata": {
    "tags": []
   },
   "outputs": [],
   "source": [
    "%%sparksql\n",
    "INSERT INTO table1 VALUES (\n",
    "    125,\n",
    "    456,\n",
    "    36.17,\n",
    "    TIMESTAMP('2021-01-26 08:10:23')\n",
    ");"
   ]
  },
  {
   "cell_type": "code",
   "execution_count": null,
   "id": "948a24f8",
   "metadata": {
    "tags": []
   },
   "outputs": [],
   "source": [
    "\n",
    "%%sparksql\n",
    "select * from table1"
   ]
  },
  {
   "cell_type": "code",
   "execution_count": null,
   "id": "a39d0811",
   "metadata": {},
   "outputs": [],
   "source": []
  }
 ],
 "metadata": {
  "kernelspec": {
   "display_name": "Python 3 (ipykernel)",
   "language": "python",
   "name": "python3"
  },
  "language_info": {
   "codemirror_mode": {
    "name": "ipython",
    "version": 3
   },
   "file_extension": ".py",
   "mimetype": "text/x-python",
   "name": "python",
   "nbconvert_exporter": "python",
   "pygments_lexer": "ipython3",
   "version": "3.8.10"
  }
 },
 "nbformat": 4,
 "nbformat_minor": 5
}
