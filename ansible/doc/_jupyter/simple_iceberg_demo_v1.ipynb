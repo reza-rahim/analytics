{
 "cells": [
  {
   "cell_type": "code",
   "execution_count": 1,
   "id": "75e60aff",
   "metadata": {
    "tags": []
   },
   "outputs": [],
   "source": [
    "import findspark\n",
    "findspark.init()"
   ]
  },
  {
   "cell_type": "code",
   "execution_count": 2,
   "id": "ad7c16b8",
   "metadata": {
    "tags": []
   },
   "outputs": [
    {
     "name": "stderr",
     "output_type": "stream",
     "text": [
      "Setting default log level to \"WARN\".\n",
      "To adjust logging level use sc.setLogLevel(newLevel). For SparkR, use setLogLevel(newLevel).\n"
     ]
    },
    {
     "name": "stdout",
     "output_type": "stream",
     "text": [
      "23/03/30 21:06:40 WARN NativeCodeLoader: Unable to load native-hadoop library for your platform... using builtin-java classes where applicable\n",
      "23/03/30 21:06:42 WARN MetricsConfig: Cannot locate configuration: tried hadoop-metrics2-s3a-file-system.properties,hadoop-metrics2.properties\n",
      "23/03/30 21:06:45 WARN S3ABlockOutputStream: Application invoked the Syncable API against stream writing to logs/app-20230330210641-0000.inprogress. This is unsupported\n"
     ]
    }
   ],
   "source": [
    "from pyspark.sql import SparkSession\n",
    "from pyspark.conf import SparkConf\n",
    "\n",
    "conf = (SparkConf())\n",
    "\n",
    "spark = SparkSession.builder.config(conf=conf).master(\"spark://node-1:7077\").getOrCreate()"
   ]
  },
  {
   "cell_type": "code",
   "execution_count": 3,
   "id": "23d454ad",
   "metadata": {
    "tags": []
   },
   "outputs": [],
   "source": [
    "load_ext sparksql_magic"
   ]
  },
  {
   "cell_type": "code",
   "execution_count": 4,
   "id": "5121bb4d",
   "metadata": {
    "tags": []
   },
   "outputs": [
    {
     "data": {
      "text/html": [
       "<table><tr style=\"border-bottom: 1px solid\"></tr></table>"
      ],
      "text/plain": [
       "<IPython.core.display.HTML object>"
      ]
     },
     "execution_count": 4,
     "metadata": {},
     "output_type": "execute_result"
    }
   ],
   "source": [
    "%%sparksql\n",
    "CREATE TABLE table1 (\n",
    "    order_id BIGINT,\n",
    "    customer_id BIGINT,\n",
    "    order_amount DECIMAL(10, 2),\n",
    "    order_ts TIMESTAMP\n",
    ")\n",
    "USING iceberg\n",
    "PARTITIONED BY ( hours(order_ts) );"
   ]
  },
  {
   "cell_type": "code",
   "execution_count": 5,
   "id": "26ce1bd1",
   "metadata": {
    "tags": []
   },
   "outputs": [
    {
     "name": "stderr",
     "output_type": "stream",
     "text": [
      "                                                                                \r"
     ]
    },
    {
     "data": {
      "text/html": [
       "<table><tr style=\"border-bottom: 1px solid\"></tr></table>"
      ],
      "text/plain": [
       "<IPython.core.display.HTML object>"
      ]
     },
     "execution_count": 5,
     "metadata": {},
     "output_type": "execute_result"
    }
   ],
   "source": [
    "%%sparksql\n",
    "INSERT INTO table1 VALUES (\n",
    "    125,\n",
    "    456,\n",
    "    36.17,\n",
    "    TIMESTAMP('2021-01-26 08:10:23')\n",
    ");"
   ]
  },
  {
   "cell_type": "code",
   "execution_count": 6,
   "id": "948a24f8",
   "metadata": {
    "tags": []
   },
   "outputs": [
    {
     "name": "stderr",
     "output_type": "stream",
     "text": [
      "                                                                                \r"
     ]
    },
    {
     "data": {
      "text/html": [
       "<table><tr style=\"border-bottom: 1px solid\"><td style=\"font-weight: bold\">order_id</td><td style=\"font-weight: bold\">customer_id</td><td style=\"font-weight: bold\">order_amount</td><td style=\"font-weight: bold\">order_ts</td></tr><tr><td>125</td><td>456</td><td>36.17</td><td>2021-01-26 08:10:23</td></tr></table>"
      ],
      "text/plain": [
       "<IPython.core.display.HTML object>"
      ]
     },
     "execution_count": 6,
     "metadata": {},
     "output_type": "execute_result"
    }
   ],
   "source": [
    "\n",
    "%%sparksql\n",
    "select * from table1"
   ]
  },
  {
   "cell_type": "code",
   "execution_count": null,
   "id": "a39d0811",
   "metadata": {},
   "outputs": [],
   "source": []
  }
 ],
 "metadata": {
  "kernelspec": {
   "display_name": "Python 3 (ipykernel)",
   "language": "python",
   "name": "python3"
  },
  "language_info": {
   "codemirror_mode": {
    "name": "ipython",
    "version": 3
   },
   "file_extension": ".py",
   "mimetype": "text/x-python",
   "name": "python",
   "nbconvert_exporter": "python",
   "pygments_lexer": "ipython3",
   "version": "3.8.10"
  }
 },
 "nbformat": 4,
 "nbformat_minor": 5
}
